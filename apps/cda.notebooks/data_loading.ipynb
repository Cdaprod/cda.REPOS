{
 "cells": [
  {
   "cell_type": "markdown",
   "metadata": {},
   "source": [
    "# LlamaIndex Episode 1 🦙"
   ]
  },
  {
   "cell_type": "markdown",
   "metadata": {},
   "source": [
    "## Overview\n",
    "\n",
    "* What is LlamaIndex?\n",
    "\n",
    "        * LlamaHub (data loaders)\n",
    "\n",
    "* How to setup Weaviate\n",
    "\n",
    "        * Create schema\n",
    "\n",
    "\n",
    "* Adding Data to Weaviate using LlamaIndex\n",
    "\n",
    "        *  Data loader examples\n",
    "\n",
    "* Chunking up your data\n",
    "\n",
    "* Connecting Weaviate instance to LlamaIndex\n",
    "\n",
    "* Simple query engine"
   ]
  },
  {
   "cell_type": "markdown",
   "metadata": {},
   "source": [
    "## What is [LlamaIndex](https://www.llamaindex.ai/)?"
   ]
  },
  {
   "cell_type": "markdown",
   "metadata": {},
   "source": [
    "#### Framework that enables you to connect LLMs and storage providers together seamlessly.\n",
    "#### LlamaIndex 🤝 Weaviate ➡ Ultimate RAG stack"
   ]
  },
  {
   "cell_type": "markdown",
   "metadata": {},
   "source": [
    "#### [LlamaHub](https://llama-hub-ui.vercel.app/): Enables you to connect to a number of external data sources (Notion, Slack, Web pages, and more!)"
   ]
  },
  {
   "cell_type": "markdown",
   "metadata": {},
   "source": [
    "## Setting up Weaviate\n",
    "\n",
    "1. Embedded \n",
    "\n",
    "2. WCS\n",
    "\n",
    "3. Docker"
   ]
  },
  {
   "cell_type": "markdown",
   "metadata": {},
   "source": [
    "### Embedded"
   ]
  },
  {
   "cell_type": "code",
   "execution_count": null,
   "metadata": {},
   "outputs": [],
   "source": [
    "import weaviate\n",
    "\n",
    "# Need the latest version of the Weaviate python client (3.21)\n",
    "\n",
    "client = weaviate.Client(embedded_options=weaviate.EmbeddedOptions())"
   ]
  },
  {
   "cell_type": "markdown",
   "metadata": {},
   "source": [
    "### WCS"
   ]
  },
  {
   "cell_type": "code",
   "execution_count": null,
   "metadata": {},
   "outputs": [],
   "source": [
    "import weaviate\n",
    "\n",
    "client = weaviate.Client(\n",
    "  url=\"https://llamaindex-episode1-samtusdu.weaviate.network\",  # URL of your Weaviate instance\n",
    "  additional_headers={\n",
    "    \"X-OPENAI-Api-Key\": \"sk-key\", # Replace with your OpenAI key\n",
    "  }\n",
    ")\n",
    "\n",
    "client.schema.get()  # Get the schema to test connection"
   ]
  },
  {
   "cell_type": "markdown",
   "metadata": {},
   "source": [
    "### Docker"
   ]
  },
  {
   "cell_type": "markdown",
   "metadata": {},
   "source": [
    "### Schema"
   ]
  },
  {
   "cell_type": "code",
   "execution_count": null,
   "metadata": {},
   "outputs": [],
   "source": [
    "schema = {\n",
    "   \"classes\": [\n",
    "       {\n",
    "           \"class\": \"BlogPost\",\n",
    "           \"description\": \"Blog post from the Weaviate website.\",\n",
    "           \"vectorizer\": \"text2vec-openai\",\n",
    "           \"moduleConfig\": {\n",
    "               \"generative-openai\": { \n",
    "                    \"model\": \"gpt-3.5-turbo\"\n",
    "                }\n",
    "           },\n",
    "           \"properties\": [\n",
    "               {\n",
    "                  \"name\": \"Content\",\n",
    "                  \"dataType\": [\"text\"],\n",
    "                  \"description\": \"Content from the blog post\",\n",
    "               }\n",
    "            ]\n",
    "        }\n",
    "    ]\n",
    "}\n",
    "\n",
    "client.schema.delete_all()\n",
    "\n",
    "client.schema.create(schema)\n",
    "\n",
    "print(\"Schema was created.\")"
   ]
  },
  {
   "cell_type": "markdown",
   "metadata": {},
   "source": [
    "## Adding Data to Weaviate using LlamaIndex"
   ]
  },
  {
   "cell_type": "markdown",
   "metadata": {},
   "source": [
    "### SimpleDirectoryReader: Read files in your filesystem"
   ]
  },
  {
   "cell_type": "code",
   "execution_count": 3,
   "metadata": {},
   "outputs": [],
   "source": [
    "from llama_index import SimpleDirectoryReader\n",
    "\n",
    "blogs = SimpleDirectoryReader('../data').load_data()"
   ]
  },
  {
   "cell_type": "markdown",
   "metadata": {},
   "source": [
    "### SimpleWebPageReader: Web scraper that turns HTML to text"
   ]
  },
  {
   "cell_type": "code",
   "execution_count": null,
   "metadata": {},
   "outputs": [],
   "source": [
    "from llama_index import download_loader\n",
    "\n",
    "SimpleWebPageReader = download_loader(\"SimpleWebPageReader\")\n",
    "\n",
    "loader = SimpleWebPageReader()\n",
    "documents = loader.load_data(urls=['https://weaviate.io/blog/llamaindex-and-weaviate'])"
   ]
  },
  {
   "cell_type": "markdown",
   "metadata": {},
   "source": [
    "### NotionPageReader: Loads documents from Notion"
   ]
  },
  {
   "cell_type": "code",
   "execution_count": null,
   "metadata": {},
   "outputs": [],
   "source": [
    "from llama_index import download_loader\n",
    "\n",
    "NotionPageReader = download_loader('NotionPageReader')\n",
    "\n",
    "integration_token = (\"secret_key\")\n",
    "page_ids = [\"40be241cac924a5aa887fa85e945dbf6\"]\n",
    "reader = NotionPageReader(integration_token=integration_token)\n",
    "documents = reader.load_data(page_ids=page_ids)"
   ]
  },
  {
   "cell_type": "markdown",
   "metadata": {},
   "source": [
    "### Creating Nodes"
   ]
  },
  {
   "cell_type": "code",
   "execution_count": 4,
   "metadata": {},
   "outputs": [],
   "source": [
    "from llama_index.node_parser import SimpleNodeParser\n",
    "\n",
    "parser = SimpleNodeParser()\n",
    "nodes = parser.get_nodes_from_documents(blogs)"
   ]
  },
  {
   "cell_type": "markdown",
   "metadata": {},
   "source": [
    "### Nodes to Weaviate"
   ]
  },
  {
   "cell_type": "code",
   "execution_count": 5,
   "metadata": {},
   "outputs": [],
   "source": [
    "from llama_index.vector_stores import WeaviateVectorStore\n",
    "from llama_index import VectorStoreIndex, StorageContext\n",
    "from llama_index.storage.storage_context import StorageContext\n",
    "import os\n",
    "\n",
    "os.environ[\"OPENAI_API_KEY\"] = \"sk-key\"\n",
    "\n",
    "# construct vector store\n",
    "vector_store = WeaviateVectorStore(weaviate_client = client, index_name=\"BlogPost\", text_key=\"content\")\n",
    "\n",
    "# setting up the storage for the embeddings\n",
    "storage_context = StorageContext.from_defaults(vector_store = vector_store)\n",
    "\n",
    "# set up the index\n",
    "index = VectorStoreIndex.from_documents(nodes, storage_context = storage_context)"
   ]
  },
  {
   "cell_type": "markdown",
   "metadata": {},
   "source": [
    "### Query in LlamaIndex"
   ]
  },
  {
   "cell_type": "code",
   "execution_count": null,
   "metadata": {},
   "outputs": [],
   "source": [
    "query_engine = index.as_query_engine()\n",
    "response = query_engine.query(\"What is the intersection between LLMs and search?\")\n",
    "print(response)"
   ]
  },
  {
   "cell_type": "markdown",
   "metadata": {},
   "source": [
    "## Connecting Weaviate Instance to LlamaIndex"
   ]
  },
  {
   "cell_type": "code",
   "execution_count": 11,
   "metadata": {},
   "outputs": [],
   "source": [
    "import weaviate\n",
    "from llama_index.readers.weaviate.reader import WeaviateReader\n",
    "\n",
    "# WCS\n",
    "resource_owner_config = weaviate.AuthClientPassword(\n",
    "  username = \"erika@weaviate.io\", \n",
    "  password = \"<password>\"\n",
    ")\n",
    "\n",
    "# initialize reader\n",
    "reader = WeaviateReader(\"https://llamaindex-episode1-samtusdu.weaviate.network\", auth_client_secret=resource_owner_config)\n",
    "\n",
    "\n",
    "documents = reader.load_data(\n",
    "    class_name=\"BlogPost\", \n",
    "    properties=[\"content\"], \n",
    "    separate_documents=True\n",
    ")\n",
    "\n",
    "\n",
    "# localhost\n",
    "# reader = WeaviateReader(\"http://localhost:8080\")\n",
    "\n",
    "# documents = reader.load_data(\n",
    "#     class_name=\"BlogPost\", \n",
    "#     properties=[\"content\"], \n",
    "#     separate_documents=True\n",
    "# )"
   ]
  },
  {
   "cell_type": "markdown",
   "metadata": {},
   "source": [
    "### Querying the existing class"
   ]
  },
  {
   "cell_type": "code",
   "execution_count": null,
   "metadata": {},
   "outputs": [],
   "source": [
    "from llama_index import ListIndex\n",
    "import os\n",
    "\n",
    "client = weaviate.Client(url=\"https://llamaindex-episode1-samtusdu.weaviate.network\")\n",
    "\n",
    "reader = WeaviateReader(\"https://llamaindex-episode1-samtusdu.weaviate.network\")\n",
    "\n",
    "query = \"\"\"\n",
    "{\n",
    "  Get {\n",
    "    BlogPost (\n",
    "      bm25: {\n",
    "        query: \"What is ref2vec\"\n",
    "        properties: [\"content\"]\n",
    "      },\n",
    "      limit: 2\n",
    "    ) {\n",
    "      content\n",
    "    }\n",
    "  }\n",
    "}\n",
    "\"\"\"\n",
    "\n",
    "documents = reader.load_data(graphql_query=query, separate_documents=True)\n",
    "\n",
    "index = ListIndex.from_documents(documents)\n",
    "\n",
    "\n",
    "query_engine = index.as_query_engine(response_mode=\"compact\")\n",
    "response = query_engine.query(\"what is ref2vec\")\n",
    "print(response)"
   ]
  }
 ],
 "metadata": {
  "kernelspec": {
   "display_name": "Python 3 (ipykernel)",
   "language": "python",
   "name": "python3"
  },
  "language_info": {
   "codemirror_mode": {
    "name": "ipython",
    "version": 3
   },
   "file_extension": ".py",
   "mimetype": "text/x-python",
   "name": "python",
   "nbconvert_exporter": "python",
   "pygments_lexer": "ipython3",
   "version": "3.11.5"
  },
  "vscode": {
   "interpreter": {
    "hash": "aee8b7b246df8f9039afb4144a1f6fd8d2ca17a180786b69acc140d282b71a49"
   }
  }
 },
 "nbformat": 4,
 "nbformat_minor": 2
}
