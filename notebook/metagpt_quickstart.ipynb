{
  "nbformat": 4,
  "nbformat_minor": 0,
  "metadata": {
    "colab": {
      "provenance": [],
      "include_colab_link": true
    },
    "kernelspec": {
      "name": "python3",
      "display_name": "Python 3"
    },
    "language_info": {
      "name": "python"
    }
  },
  "cells": [
    {
      "cell_type": "markdown",
      "metadata": {
        "id": "view-in-github",
        "colab_type": "text"
      },
      "source": [
        "<a href=\"https://colab.research.google.com/github/Cdaprod/cda.REPOS/blob/main/metagpt_quickstart.ipynb\" target=\"_parent\"><img src=\"https://colab.research.google.com/assets/colab-badge.svg\" alt=\"Open In Colab\"/></a>"
      ]
    },
    {
      "cell_type": "markdown",
      "source": [
        "# Installation"
      ],
      "metadata": {
        "id": "YaKfwGIgAx7p"
      }
    },
    {
      "cell_type": "code",
      "execution_count": null,
      "metadata": {
        "id": "hFbkYpBX0Iif"
      },
      "outputs": [],
      "source": [
        "!pip install metagpt"
      ]
    },
    {
      "cell_type": "markdown",
      "source": [
        "# Setup"
      ],
      "metadata": {
        "id": "7XCdpgd6A1Ej"
      }
    },
    {
      "cell_type": "code",
      "source": [
        "import os\n",
        "os.environ[\"OPENAI_API_KEY\"] = \"sk-...\"\n",
        "os.environ[\"OPENAI_API_MODEL\"] = \"gpt-4-1106-preview\""
      ],
      "metadata": {
        "id": "cj6sVZuv2EXg"
      },
      "execution_count": null,
      "outputs": []
    },
    {
      "cell_type": "markdown",
      "source": [
        "# Develop software with a one-line requirement\n",
        ">Note:\n",
        ">\n",
        ">Below is a breakdown of the [software startup example](https://github.com/geekan/MetaGPT/blob/main/metagpt/startup.py). If you install MetaGPT with the git clone approach, simply run\n",
        ">```\n",
        ">metagpt \"write a cli blackjack game\"\n",
        ">```\n",
        "\n",
        "Now, let's get started! We will create a team of agents to write software based on one line of our instruction.\n",
        "\n",
        "First, import off-the-shelf roles"
      ],
      "metadata": {
        "id": "qY8aEoRZA4tz"
      }
    },
    {
      "cell_type": "code",
      "source": [
        "import asyncio\n",
        "\n",
        "from metagpt.roles import (\n",
        "    Architect,\n",
        "    Engineer,\n",
        "    ProductManager,\n",
        "    ProjectManager,\n",
        ")\n",
        "from metagpt.team import Team"
      ],
      "metadata": {
        "id": "7bvD3BEb34a1",
        "colab": {
          "base_uri": "https://localhost:8080/"
        },
        "outputId": "be8e7bae-ee7d-46b7-90a2-2a658b789936"
      },
      "execution_count": null,
      "outputs": [
        {
          "output_type": "stream",
          "name": "stderr",
          "text": [
            "2023-12-16 02:34:36.425 | INFO     | metagpt.const:get_metagpt_package_root:26 - Package root set to /usr/local/lib/python3.10/dist-packages\n"
          ]
        }
      ]
    },
    {
      "cell_type": "markdown",
      "source": [
        "Next, initiate the team, equip it with agents, set their budget, and provide our requirement of writing a small game"
      ],
      "metadata": {
        "id": "fpfQxW7VfdAo"
      }
    },
    {
      "cell_type": "code",
      "source": [
        "async def startup(idea: str):\n",
        "    company = Team()\n",
        "    company.hire(\n",
        "        [\n",
        "            ProductManager(),\n",
        "            Architect(),\n",
        "            ProjectManager(),\n",
        "            Engineer(),\n",
        "        ]\n",
        "    )\n",
        "    company.invest(investment=3.0)\n",
        "    company.run_project(idea=idea)\n",
        "\n",
        "    await company.run(n_round=5)"
      ],
      "metadata": {
        "id": "hBV-9lS0flM1"
      },
      "execution_count": null,
      "outputs": []
    },
    {
      "cell_type": "markdown",
      "source": [
        "Finally, run it and get the code!"
      ],
      "metadata": {
        "id": "RWEWKq3kfl5-"
      }
    },
    {
      "cell_type": "code",
      "source": [
        "history = await startup(idea=\"write a cli blackjack game\")"
      ],
      "metadata": {
        "colab": {
          "base_uri": "https://localhost:8080/"
        },
        "id": "uIYIK7VcYr-5",
        "outputId": "0d3e07ea-87c3-43fa-c97e-8fddb8171517"
      },
      "execution_count": null,
      "outputs": [
        {
          "output_type": "stream",
          "name": "stderr",
          "text": [
            "2023-12-16 02:34:47.954 | INFO     | metagpt.team:invest:43 - Investment: $3.0.\n",
            "2023-12-16 02:34:47.966 | INFO     | metagpt.roles.role:_act:269 - Alice(Product Manager): ready to PrepareDocuments\n",
            "2023-12-16 02:34:48.051 | INFO     | metagpt.utils.file_repository:save:59 - save to: /content/workspace/20231216023447/docs/requirement.txt\n",
            "2023-12-16 02:34:48.057 | INFO     | metagpt.roles.role:_act:269 - Alice(Product Manager): ready to WritePRD\n"
          ]
        },
        {
          "output_type": "stream",
          "name": "stdout",
          "text": [
            "[CONTENT]\n",
            "{\n",
            "    \"Language\": \"en_us\",\n",
            "    \"Programming Language\": \"Python\",\n",
            "    \"Original Requirements\": \"Write a CLI blackjack game that should have a leaderboard and multiple difficulty levels.\",\n",
            "    \"Project Name\": \"cli_blackjack\",\n",
            "    \"Product Goals\": [\n",
            "        \"Create an engaging and interactive CLI game experience\",\n",
            "        \"Implement a robust scoring and leaderboard system\",\n",
            "        \"Offer multiple difficulty levels to cater to a range of players\"\n",
            "    ],\n",
            "    \"User Stories\": [\n",
            "        \"As a player, I want to choose from various difficulty levels to match my skill level.\",\n",
            "        \"As a competitive player, I want to see my ranking on a leaderboard to gauge my performance against others.\",\n",
            "        \"As a new player, I want to understand the rules of blackjack easily from within the game.\",\n",
            "        \"As a user, I want to be able to play the game using simple CLI commands.\",\n",
            "        \"As a frequent player, I want my scores to be saved so I can track my progress over time.\"\n",
            "    ],\n",
            "    \"Competitive Analysis\": [\n",
            "        \"Terminal Poker: Offers multiplayer but lacks blackjack-specific features.\",\n",
            "        \"Console Solitaire: Single-player experience, not directly competitive.\",\n",
            "        \"ASCII Blackjack: Simple blackjack game, but without difficulty levels or leaderboard.\"\n",
            "    ],\n",
            "    \"Competitive Quadrant Chart\": \"quadrantChart\\n    title \\\"Feature Richness vs User Experience\\\"\\n    x-axis \\\"Basic\\\" --> \\\"Feature Rich\\\"\\n    y-axis \\\"Simple UX\\\" --> \\\"Engaging UX\\\"\\n    quadrant-1 \\\"Low Priority Enhancements\\\"\\n    quadrant-2 \\\"Niche Features\\\"\\n    quadrant-3 \\\"Must Haves\\\"\\n    quadrant-4 \\\"Key Differentiators\\\"\\n    \\\"Terminal Poker\\\": [0.2, 0.7]\\n    \\\"Console Solitaire\\\": [0.3, 0.5]\\n    \\\"ASCII Blackjack\\\": [0.5, 0.4]\\n    \\\"Our Target Product\\\": [0.8, 0.9]\",\n",
            "    \"Requirement Analysis\": \"The product must be accessible via command line interface, with clear instructions and feedback for the user. It should support multiple difficulty levels and maintain a leaderboard for competitive play.\",\n",
            "    \"Requirement Pool\": [\n",
            "        [\n",
            "            \"P0\",\n",
            "            \"Command line interface with clear user feedback\"\n",
            "        ],\n",
            "        [\n",
            "            \"P0\",\n",
            "            \"Multiple difficulty levels\"\n",
            "        ],\n",
            "        [\n",
            "            \"P0\",\n",
            "            \"Leaderboard functionality\"\n",
            "        ],\n",
            "        [\n",
            "            \"P1\",\n",
            "            \"Save and load game progress\"\n",
            "        ],\n",
            "        [\n",
            "            \"P1\",\n",
            "            \"Game instructions within the CLI\"\n",
            "        ],\n",
            "        [\n",
            "            \"P2\",\n",
            "            \"Addition of card counting feature to simulate advanced play\"\n",
            "        ]\n",
            "    ],\n",
            "    \"UI Design draft\": \"CLI-based interface with text-based graphics. Simple navigation commands and hotkeys for in-game decisions (e.g., 'h' for hit, 's' for stand). Real-time feedback after each action, and end-of-game summary with option to save score.\",\n",
            "    \"Anything UNCLEAR\": \"Clarification needed on whether multiplayer functionality is required and if the game should support networked play.\"\n",
            "}\n",
            "[/CONTENT]\n"
          ]
        },
        {
          "output_type": "stream",
          "name": "stderr",
          "text": [
            "2023-12-16 02:35:22.623 | INFO     | metagpt.provider.openai_api:update_cost:91 - Total running cost: $0.028 | Max budget: $3.000 | Current cost: $0.028, prompt_tokens: 831, completion_tokens: 659\n",
            "2023-12-16 02:35:22.637 | INFO     | metagpt.utils.git_repository:rename_root:207 - Rename directory /content/workspace/20231216023447 to /content/workspace/cli_blackjack\n",
            "2023-12-16 02:35:22.645 | INFO     | metagpt.utils.file_repository:save:59 - save to: /content/workspace/cli_blackjack/docs/prds/20231216023522.json\n",
            "2023-12-16 02:35:22.655 | WARNING  | metagpt.utils.mermaid:mermaid_to_file:37 - RUN `npm install -g @mermaid-js/mermaid-cli` to install mmdc,or consider changing MERMAID_ENGINE to `playwright`, `pyppeteer`, or `ink`.\n",
            "2023-12-16 02:35:22.660 | INFO     | metagpt.utils.file_repository:save:59 - save to: /content/workspace/cli_blackjack/resources/prd/20231216023522.md\n",
            "2023-12-16 02:35:22.668 | INFO     | metagpt.roles.role:_act:269 - Bob(Architect): ready to WriteDesign\n"
          ]
        },
        {
          "output_type": "stream",
          "name": "stdout",
          "text": [
            "[CONTENT]\n",
            "{\n",
            "    \"Implementation approach\": \"We will create a command-line interface (CLI) blackjack game in Python, utilizing open-source libraries such as 'curses' for the CLI and 'SQLite' for storing the leaderboard. The game will feature multiple difficulty levels by adjusting game rules like deck count and dealer behavior. We will ensure simplicity in design and usability while providing a complete gaming experience.\",\n",
            "    \"File list\": [\n",
            "        \"main.py\",\n",
            "        \"game.py\",\n",
            "        \"player.py\",\n",
            "        \"leaderboard.py\",\n",
            "        \"difficulty.py\",\n",
            "        \"utils.py\"\n",
            "    ],\n",
            "    \"Data structures and interfaces\": \"classDiagram\\n    class Main {\\n        +main() void\\n    }\\n    class Game {\\n        -Player player\\n        -Dealer dealer\\n        -Deck deck\\n        -Leaderboard leaderboard\\n        +start_game() void\\n        +end_game() void\\n    }\\n    class Player {\\n        -Hand hand\\n        -Score score\\n        +hit() void\\n        +stand() void\\n    }\\n    class Dealer {\\n        -Hand hand\\n        -Difficulty difficulty\\n        +deal_card() void\\n        +show_hand() void\\n    }\\n    class Deck {\\n        -Cards cards\\n        +shuffle() void\\n        +deal() Card\\n    }\\n    class Leaderboard {\\n        +update_leaderboard(player: Player) void\\n        +show_leaderboard() void\\n    }\\n    class Difficulty {\\n        +set_difficulty(level: int) void\\n    }\\n    class Hand {\\n        -Cards cards\\n        +calculate_score() int\\n        +add_card(card: Card) void\\n    }\\n    class Utils {\\n        +save_game(game: Game) void\\n        +load_game() Game\\n    }\\n    Main --> Game\\n    Game --> Player\\n    Game --> Dealer\\n    Game --> Deck\\n    Game --> Leaderboard\\n    Player --> Hand\\n    Dealer --> Hand\\n    Dealer --> Difficulty\\n    Utils --> Game\",\n",
            "    \"Program call flow\": \"sequenceDiagram\\n    participant M as Main\\n    participant G as Game\\n    participant P as Player\\n    participant D as Dealer\\n    participant L as Leaderboard\\n    participant U as Utils\\n    M->>G: start_game()\\n    loop Game Round\\n        G->>P: hit() or stand()\\n        G->>D: deal_card()\\n    end\\n    G->>L: update_leaderboard(P)\\n    G->>U: save_game(G)\\n    G->>M: end_game()\",\n",
            "    \"Anything UNCLEAR\": \"It is unclear whether the game should support multiplayer functionality or networked play. For now, the design assumes a single-player game against a computer dealer. Clarification on this would"
          ]
        },
        {
          "output_type": "stream",
          "name": "stderr",
          "text": [
            "2023-12-16 02:35:46.455 | INFO     | metagpt.provider.openai_api:update_cost:91 - Total running cost: $0.059 | Max budget: $3.000 | Current cost: $0.031, prompt_tokens: 1310, completion_tokens: 591\n",
            "2023-12-16 02:35:46.467 | INFO     | metagpt.utils.file_repository:save:59 - save to: /content/workspace/cli_blackjack/docs/system_design/20231216023522.json\n",
            "2023-12-16 02:35:46.474 | INFO     | metagpt.utils.file_repository:save:64 - update dependency: /content/workspace/cli_blackjack/docs/system_design/20231216023522.json:{'docs/prds/20231216023522.json'}\n",
            "2023-12-16 02:35:46.479 | WARNING  | metagpt.utils.mermaid:mermaid_to_file:37 - RUN `npm install -g @mermaid-js/mermaid-cli` to install mmdc,or consider changing MERMAID_ENGINE to `playwright`, `pyppeteer`, or `ink`.\n",
            "2023-12-16 02:35:46.484 | INFO     | metagpt.actions.design_api:_save_data_api_design:121 - Save class view to /content/workspace/cli_blackjack/resources/data_api_design/20231216023522\n",
            "2023-12-16 02:35:46.489 | WARNING  | metagpt.utils.mermaid:mermaid_to_file:37 - RUN `npm install -g @mermaid-js/mermaid-cli` to install mmdc,or consider changing MERMAID_ENGINE to `playwright`, `pyppeteer`, or `ink`.\n",
            "2023-12-16 02:35:46.490 | INFO     | metagpt.actions.design_api:_save_seq_flow:131 - Saving sequence flow to /content/workspace/cli_blackjack/resources/seq_flow/20231216023522\n",
            "2023-12-16 02:35:46.493 | INFO     | metagpt.utils.file_repository:save:59 - save to: /content/workspace/cli_blackjack/resources/system_design/20231216023522.md\n",
            "2023-12-16 02:35:46.506 | INFO     | metagpt.roles.role:_act:269 - Eve(Project Manager): ready to WriteTasks\n"
          ]
        },
        {
          "output_type": "stream",
          "name": "stdout",
          "text": [
            " be helpful.\"\n",
            "}\n",
            "[/CONTENT]\n",
            "[CONTENT]\n",
            "{\n",
            "    \"Required Python packages\": [\n",
            "        \"curses==2.2.1\",\n",
            "        \"sqlite3==3.35.4\"\n",
            "    ],\n",
            "    \"Required Other language third-party packages\": [\n",
            "        \"No third-party dependencies required\"\n",
            "    ],\n",
            "    \"Logic Analysis\": [\n",
            "        [\n",
            "            \"main.py\",\n",
            "            \"Contains Main class with main() to start the game loop\"\n",
            "        ],\n",
            "        [\n",
            "            \"game.py\",\n",
            "            \"Contains Game class with methods start_game(), end_game(), and game loop logic\"\n",
            "        ],\n",
            "        [\n",
            "            \"player.py\",\n",
            "            \"Contains Player class with methods hit(), stand(), and player's hand and score\"\n",
            "        ],\n",
            "        [\n",
            "            \"dealer.py\",\n",
            "            \"Contains Dealer class with methods deal_card(), show_hand(), dealer's hand, and difficulty settings\"\n",
            "        ],\n",
            "        [\n",
            "            \"leaderboard.py\",\n",
            "            \"Contains Leaderboard class with methods update_leaderboard() and show_leaderboard()\"\n",
            "        ],\n",
            "        [\n",
            "            \"difficulty.py\",\n",
            "            \"Contains Difficulty class with method set_difficulty() to adjust game difficulty\"\n",
            "        ],\n",
            "        [\n",
            "            \"utils.py\",\n",
            "            \"Contains Utils class with methods save_game() and load_game() for game state management\"\n",
            "        ]\n",
            "    ],\n",
            "    \"Task list\": [\n",
            "        \"utils.py\",\n",
            "        \"difficulty.py\",\n",
            "        \"player.py\",\n",
            "        \"dealer.py\",\n",
            "        \"leaderboard.py\",\n",
            "        \"game.py\",\n",
            "        \"main.py\"\n",
            "    ],\n",
            "    \"Full API spec\": \"\",\n",
            "    \"Shared Knowledge\": \"'utils.py' contains functions for saving and loading game states, which can be used across the project.\",\n",
            "    \"Anything UNCLEAR\": \"It is unclear whether the game should support multiplayer functionality or networked play. For now, the design assumes a single-player game against a computer dealer. Clarification"
          ]
        },
        {
          "output_type": "stream",
          "name": "stderr",
          "text": [
            "2023-12-16 02:36:01.918 | INFO     | metagpt.provider.openai_api:update_cost:91 - Total running cost: $0.081 | Max budget: $3.000 | Current cost: $0.022, prompt_tokens: 1076, completion_tokens: 376\n",
            "2023-12-16 02:36:01.936 | INFO     | metagpt.utils.file_repository:save:59 - save to: /content/workspace/cli_blackjack/docs/tasks/20231216023522.json\n",
            "2023-12-16 02:36:01.941 | INFO     | metagpt.utils.file_repository:save:64 - update dependency: /content/workspace/cli_blackjack/docs/tasks/20231216023522.json:{'docs/system_design/20231216023522.json'}\n",
            "2023-12-16 02:36:01.945 | INFO     | metagpt.utils.file_repository:save:59 - save to: /content/workspace/cli_blackjack/requirements.txt\n"
          ]
        },
        {
          "output_type": "stream",
          "name": "stdout",
          "text": [
            " on this would be helpful.\"\n",
            "}\n",
            "[/CONTENT]\n"
          ]
        },
        {
          "output_type": "stream",
          "name": "stderr",
          "text": [
            "2023-12-16 02:36:01.953 | INFO     | metagpt.utils.file_repository:save:59 - save to: /content/workspace/cli_blackjack/resources/api_spec_and_tasks/20231216023522.md\n",
            "2023-12-16 02:36:02.008 | INFO     | metagpt.actions.write_code:run:126 - Writing utils.py..\n"
          ]
        },
        {
          "output_type": "stream",
          "name": "stdout",
          "text": [
            "## Code: utils.py\n",
            "```python\n",
            "## utils.py\n",
            "import pickle\n",
            "import os\n",
            "from game import Game\n",
            "\n",
            "class Utils:\n",
            "    @staticmethod\n",
            "    def save_game(game: Game) -> None:\n",
            "        \"\"\"\n",
            "        Save the current state of the game to a file using serialization.\n",
            "\n",
            "        :param game: The current game object to be saved.\n",
            "        \"\"\"\n",
            "        with open('game_state.pkl', 'wb') as file:\n",
            "            pickle.dump(game, file)\n",
            "\n",
            "    @staticmethod\n",
            "    def load_game() -> Game:\n",
            "        \"\"\"\n",
            "        Load the saved game state from a file.\n",
            "\n",
            "        :return: The loaded game object.\n",
            "        \"\"\"\n",
            "        if os.path.exists('game_state.pkl'):\n",
            "            with open('game_state.pkl', 'rb') as file:\n",
            "                game = pickle.load(file)\n",
            "                return game\n"
          ]
        },
        {
          "output_type": "stream",
          "name": "stderr",
          "text": [
            "2023-12-16 02:36:10.344 | INFO     | metagpt.provider.openai_api:update_cost:91 - Total running cost: $0.098 | Max budget: $3.000 | Current cost: $0.018, prompt_tokens: 1237, completion_tokens: 172\n"
          ]
        },
        {
          "output_type": "stream",
          "name": "stdout",
          "text": [
            "        else:\n",
            "            return None\n",
            "```\n"
          ]
        },
        {
          "output_type": "stream",
          "name": "stderr",
          "text": [
            "2023-12-16 02:36:10.352 | INFO     | metagpt.utils.file_repository:save:59 - save to: /content/workspace/cli_blackjack/cli_blackjack/utils.py\n",
            "2023-12-16 02:36:10.357 | INFO     | metagpt.utils.file_repository:save:64 - update dependency: /content/workspace/cli_blackjack/cli_blackjack/utils.py:{'docs/tasks/20231216023522.json', 'docs/system_design/20231216023522.json'}\n",
            "2023-12-16 02:36:10.365 | INFO     | metagpt.actions.write_code:run:126 - Writing difficulty.py..\n"
          ]
        },
        {
          "output_type": "stream",
          "name": "stdout",
          "text": [
            "## Code: difficulty.py\n",
            "```python\n",
            "## difficulty.py\n",
            "\n",
            "class Difficulty:\n",
            "    def __init__(self, level: int = 1):\n",
            "        \"\"\"\n",
            "        Initialize the difficulty level of the game with a default value.\n",
            "\n",
            "        :param level: The difficulty level of the game.\n",
            "        \"\"\"\n",
            "        self.level = level\n",
            "\n",
            "    def set_difficulty(self, level: int) -> None:\n",
            "        \"\"\"\n",
            "        Set the difficulty level of the game.\n",
            "\n",
            "        :param level: The new difficulty level to be set.\n",
            "        \"\"\"\n",
            "        if not isinstance(level, int):\n",
            "            raise TypeError(\"Difficulty level must be an integer.\")\n",
            "        if level < 1 or level > 3:\n",
            "            raise ValueError(\"Difficulty level must be between 1 (easy) and 3 (hard).\")\n",
            "        \n"
          ]
        },
        {
          "output_type": "stream",
          "name": "stderr",
          "text": [
            "2023-12-16 02:36:18.058 | INFO     | metagpt.provider.openai_api:update_cost:91 - Total running cost: $0.117 | Max budget: $3.000 | Current cost: $0.019, prompt_tokens: 1403, completion_tokens: 165\n",
            "2023-12-16 02:36:18.064 | INFO     | metagpt.utils.file_repository:save:59 - save to: /content/workspace/cli_blackjack/cli_blackjack/difficulty.py\n",
            "2023-12-16 02:36:18.068 | INFO     | metagpt.utils.file_repository:save:64 - update dependency: /content/workspace/cli_blackjack/cli_blackjack/difficulty.py:{'docs/tasks/20231216023522.json', 'docs/system_design/20231216023522.json'}\n",
            "2023-12-16 02:36:18.075 | INFO     | metagpt.actions.write_code:run:126 - Writing player.py..\n"
          ]
        },
        {
          "output_type": "stream",
          "name": "stdout",
          "text": [
            "        self.level = level\n",
            "```\n",
            "## Code: player.py\n",
            "```python\n",
            "## player.py\n",
            "class Hand:\n",
            "    def __init__(self):\n",
            "        self.cards = []\n",
            "\n",
            "    def calculate_score(self) -> int:\n",
            "        \"\"\"\n",
            "        Calculate the score of the hand based on the cards.\n",
            "\n",
            "        :return: The score of the hand.\n",
            "        \"\"\"\n",
            "        score = 0\n",
            "        ace_count = 0\n",
            "        for card in self.cards:\n",
            "            if card.is_ace():\n",
            "                ace_count += 1\n",
            "                score += 11\n",
            "            else:\n",
            "                score += card.value\n",
            "\n",
            "        # Adjust for aces if score is over 21\n",
            "        while score > 21 and ace_count:\n",
            "            score -= 10\n",
            "            ace_count -= 1\n",
            "\n",
            "        return score\n",
            "\n",
            "    def add_card(self, card) -> None:\n",
            "        \"\"\"\n",
            "        Add a card to the hand.\n",
            "\n",
            "        :param card: The card to be added to the hand.\n",
            "        \"\"\"\n",
            "        self.cards.append(card)\n",
            "\n",
            "class Player:\n",
            "    def __init__(self):\n",
            "        self.hand = Hand()\n",
            "        self.score = 0\n",
            "\n",
            "    def hit(self, deck) -> None:\n",
            "        \"\"\"\n",
            "        Draw a card from the deck and add it to the player's hand.\n",
            "\n",
            "        :param deck: The deck from which the card will be drawn.\n",
            "        \"\"\"\n",
            "        card = deck.deal()\n",
            "        self.hand.add_card(card)\n",
            "        self.score = self.hand.calculate_score()\n",
            "\n",
            "    def stand(self) -> None:\n",
            "        \"\"\"\n",
            "        Player stands with the current hand, ending their turn.\n",
            "        \"\"\"\n",
            "        pass  # In blackjack, to stand simply means to end the turn, no action"
          ]
        },
        {
          "output_type": "stream",
          "name": "stderr",
          "text": [
            "2023-12-16 02:36:37.797 | INFO     | metagpt.provider.openai_api:update_cost:91 - Total running cost: $0.143 | Max budget: $3.000 | Current cost: $0.026, prompt_tokens: 1562, completion_tokens: 331\n",
            "2023-12-16 02:36:37.809 | INFO     | metagpt.utils.file_repository:save:59 - save to: /content/workspace/cli_blackjack/cli_blackjack/player.py\n",
            "2023-12-16 02:36:37.818 | INFO     | metagpt.utils.file_repository:save:64 - update dependency: /content/workspace/cli_blackjack/cli_blackjack/player.py:{'docs/tasks/20231216023522.json', 'docs/system_design/20231216023522.json'}\n",
            "2023-12-16 02:36:37.830 | INFO     | metagpt.actions.write_code:run:126 - Writing dealer.py..\n"
          ]
        },
        {
          "output_type": "stream",
          "name": "stdout",
          "text": [
            " required.\n",
            "```\n",
            "## Code: dealer.py\n",
            "```python\n",
            "## dealer.py\n",
            "from player import Hand\n",
            "from difficulty import Difficulty\n",
            "from random import shuffle\n",
            "\n",
            "class Card:\n",
            "    def __init__(self, rank: str, suit: str, value: int, is_ace: bool = False):\n",
            "        self.rank = rank\n",
            "        self.suit = suit\n",
            "        self.value = value\n",
            "        self.is_ace = is_ace\n",
            "\n",
            "    def __str__(self):\n",
            "        return f\"{self.rank} of {self.suit}\"\n",
            "\n",
            "    def __repr__(self):\n",
            "        return self.__str__()\n",
            "\n",
            "class Deck:\n",
            "    SUITS = ['Hearts', 'Diamonds', 'Clubs', 'Spades']\n",
            "    RANKS = {\n",
            "        '2': 2, '3': 3, '4': 4, '5': 5, '6': 6, '7': 7, '8': 8, '9': 9, '10': 10,\n",
            "        'Jack': 10, 'Queen': 10, 'King': 10, 'Ace': 11\n",
            "    }\n",
            "\n",
            "    def __init__(self):\n",
            "        self.cards = [Card(rank, suit, value, rank == 'Ace') for suit in Deck.SUITS for rank, value in Deck.RANKS.items()]\n",
            "        self.shuffle()\n",
            "\n",
            "    def shuffle(self) -> None:\n",
            "        shuffle(self.cards)\n",
            "\n",
            "    def deal(self) -> Card:\n",
            "        return self.cards.pop() if self.cards else None\n",
            "\n",
            "class Dealer:\n",
            "    def __init__(self):\n",
            "        self.hand = Hand()\n",
            "        self.difficulty = Difficulty()  # Default difficulty level is 1 (easy)\n",
            "\n",
            "    def deal_card(self, deck: Deck) -> None:\n",
            "        \"\"\"\n",
            "        Deal a card from the deck to the dealer's hand.\n",
            "\n",
            "        :param deck: The deck from which the card will be dealt.\n",
            "        \"\"\"\n",
            "        card = deck.deal()\n",
            "        if card:\n",
            "            self.hand.add_card(card)\n",
            "\n",
            "    def show_hand(self, reveal_first_card: bool = False) -> str:\n",
            "        \"\"\"\n",
            "        Show the dealer's hand. Can hide or reveal the first card based on the game rules.\n",
            "\n",
            "        :param reveal_first_card: Whether to reveal the first card or not.\n",
            "        :return: A string representation of the dealer's hand.\n",
            "        \"\"\"\n",
            "        if reveal_first_card:\n",
            "            return ' '.join(str(card) for card in self.hand.cards)\n",
            "        else:\n",
            "            return 'Hidden ' + ' '.join(str(card) for card in self.hand.cards[1:])\n",
            "\n",
            "    def play_turn(self, deck: Deck) -> None:\n",
            "        \"\"\"\n",
            "        The dealer's turn logic based on the difficulty level and blackjack rules.\n",
            "\n",
            "        :param deck: The deck from which the dealer will draw cards.\n",
            "        \"\"\"\n",
            "        while self.hand.calculate_score() < 17 or (self.difficulty.level == 3 and self.hand.calculate_score() < 18):\n",
            "            self.deal_card(deck)\n",
            "\n",
            "    def reset_hand(self) -> None:\n",
            "        \"\"\"\n",
            "        Reset the dealer's hand for a new game round.\n",
            "        \"\"\"\n",
            "        self"
          ]
        },
        {
          "output_type": "stream",
          "name": "stderr",
          "text": [
            "2023-12-16 02:37:08.599 | INFO     | metagpt.provider.openai_api:update_cost:91 - Total running cost: $0.181 | Max budget: $3.000 | Current cost: $0.038, prompt_tokens: 1887, completion_tokens: 638\n",
            "2023-12-16 02:37:08.610 | INFO     | metagpt.utils.file_repository:save:59 - save to: /content/workspace/cli_blackjack/cli_blackjack/dealer.py\n",
            "2023-12-16 02:37:08.615 | INFO     | metagpt.utils.file_repository:save:64 - update dependency: /content/workspace/cli_blackjack/cli_blackjack/dealer.py:{'docs/tasks/20231216023522.json', 'docs/system_design/20231216023522.json'}\n",
            "2023-12-16 02:37:08.626 | INFO     | metagpt.actions.write_code:run:126 - Writing leaderboard.py..\n"
          ]
        },
        {
          "output_type": "stream",
          "name": "stdout",
          "text": [
            ".hand = Hand()\n",
            "```\n",
            "## Code: leaderboard.py\n",
            "```python\n",
            "## leaderboard.py\n",
            "import sqlite3\n",
            "from player import Player\n",
            "\n",
            "class Leaderboard:\n",
            "    def __init__(self, db_path: str = 'leaderboard.db'):\n",
            "        \"\"\"\n",
            "        Initialize the leaderboard with a default database path.\n",
            "\n",
            "        :param db_path: The path to the SQLite database file.\n",
            "        \"\"\"\n",
            "        self.db_path = db_path\n",
            "        self.connection = sqlite3.connect(self.db_path)\n",
            "        self.cursor = self.connection.cursor()\n",
            "        self.create_table()\n",
            "\n",
            "    def create_table(self) -> None:\n",
            "        \"\"\"\n",
            "        Create the leaderboard table if it does not exist.\n",
            "        \"\"\"\n",
            "        create_table_sql = '''\n",
            "        CREATE TABLE IF NOT EXISTS leaderboard (\n",
            "            player_name TEXT NOT NULL,\n",
            "            score INTEGER NOT NULL\n",
            "        )\n",
            "        '''\n",
            "        self.cursor.execute(create_table_sql)\n",
            "        self.connection.commit()\n",
            "\n",
            "    def update_leaderboard(self, player: Player) -> None:\n",
            "        \"\"\"\n",
            "        Update the leaderboard with the player's score.\n",
            "\n",
            "        :param player: The player object with the name and score.\n",
            "        \"\"\"\n",
            "        insert_sql = 'INSERT INTO leaderboard (player_name, score) VALUES (?, ?)'\n",
            "        self.cursor.execute(insert_sql, (player.name, player.score))\n",
            "        self.connection.commit()\n",
            "\n",
            "    def show_leaderboard(self) -> None:\n",
            "        \"\"\"\n",
            "        Print the leaderboard in descending order of scores.\n",
            "        \"\"\"\n",
            "        select_sql = 'SELECT player_name, score FROM leaderboard ORDER BY score DESC'\n",
            "        self.cursor.execute(select_sql)\n",
            "        leaderboard_rows = self.cursor.fetchall()\n",
            "\n",
            "        print(\"Leaderboard:\")\n",
            "        for row in leaderboard_rows:\n",
            "            print(f\"{row[0]}: {row[1]}\")\n",
            "\n",
            "    def __del__(self):\n",
            "        \"\"\"\n",
            "        Close the database connection when the object is destroyed.\n",
            "        \"\"\"\n"
          ]
        },
        {
          "output_type": "stream",
          "name": "stderr",
          "text": [
            "2023-12-16 02:37:27.249 | INFO     | metagpt.provider.openai_api:update_cost:91 - Total running cost: $0.217 | Max budget: $3.000 | Current cost: $0.036, prompt_tokens: 2519, completion_tokens: 362\n",
            "2023-12-16 02:37:27.259 | INFO     | metagpt.utils.file_repository:save:59 - save to: /content/workspace/cli_blackjack/cli_blackjack/leaderboard.py\n",
            "2023-12-16 02:37:27.263 | INFO     | metagpt.utils.file_repository:save:64 - update dependency: /content/workspace/cli_blackjack/cli_blackjack/leaderboard.py:{'docs/tasks/20231216023522.json', 'docs/system_design/20231216023522.json'}\n",
            "2023-12-16 02:37:27.282 | INFO     | metagpt.actions.write_code:run:126 - Writing game.py..\n"
          ]
        },
        {
          "output_type": "stream",
          "name": "stdout",
          "text": [
            "        self.connection.close()\n",
            "```\n",
            "## Code: game.py\n",
            "```python\n",
            "## game.py\n",
            "import curses\n",
            "from player import Player\n",
            "from dealer import Dealer, Deck\n",
            "from leaderboard import Leaderboard\n",
            "from utils import Utils\n",
            "\n",
            "class Game:\n",
            "    def __init__(self):\n",
            "        self.player = Player()\n",
            "        self.dealer = Dealer()\n",
            "        self.deck = Deck()\n",
            "        self.leaderboard = Leaderboard()\n",
            "        self.running = True\n",
            "\n",
            "    def start_game(self) -> None:\n",
            "        \"\"\"\n",
            "        Start the game loop and handle the game logic.\n",
            "        \"\"\"\n",
            "        self.running = True\n",
            "        while self.running:\n",
            "            self.player.hand = Player.Hand()\n",
            "            self.dealer.reset_hand()\n",
            "            self.deck.shuffle()\n",
            "            self.initial_deal()\n",
            "            self.player_turn()\n",
            "            self.dealer_turn()\n",
            "            self.end_round()\n",
            "\n",
            "    def initial_deal(self) -> None:\n",
            "        \"\"\"\n",
            "        Deal the initial two cards to both player and dealer.\n",
            "        \"\"\"\n",
            "        for _ in range(2):\n",
            "            self.player.hit(self.deck)\n",
            "            self.dealer.deal_card(self.deck)\n",
            "\n",
            "    def player_turn(self) -> None:\n",
            "        \"\"\"\n",
            "        Handle the player's turn until they stand or bust.\n",
            "        \"\"\"\n",
            "        while self.player.score < 21:\n",
            "            # This is a placeholder for player input, in a real CLI application,\n",
            "            # you would use curses to get the player's choice.\n",
            "            choice = input(\"Hit or Stand? (h/s): \").lower()\n",
            "            if choice == 'h':\n",
            "                self.player.hit(self.deck)\n",
            "            elif choice == 's':\n",
            "                break\n",
            "\n",
            "    def dealer_turn(self) -> None:\n",
            "        \"\"\"\n",
            "        Handle the dealer's turn based on the rules and difficulty.\n",
            "        \"\"\"\n",
            "        self.dealer.play_turn(self.deck)\n",
            "\n",
            "    def end_round(self) -> None:\n",
            "        \"\"\"\n",
            "        End the current round, update leaderboard, and check for game over.\n",
            "        \"\"\"\n",
            "        player_score = self.player.score\n",
            "        dealer_score = self.dealer.hand.calculate_score()\n",
            "        if player_score > 21 or (dealer_score <= 21 and dealer_score > player_score):\n",
            "            print(\"Dealer wins!\")\n",
            "        elif dealer_score > 21 or player_score > dealer_score:\n",
            "            print(\"Player wins!\")\n",
            "            self.leaderboard.update_leaderboard(self.player)\n",
            "        else:\n",
            "            print(\"It's a tie!\")\n",
            "\n",
            "        # Ask player if they want to play another round\n",
            "        play_again = input(\"Play another round? (y/n): \").lower()\n",
            "        if play_again != 'y':\n",
            "            self.running = False\n",
            "            self.end_game()\n",
            "\n",
            "    def end_game(self) -> None:\n",
            "        \"\"\"\n",
            "        End the game, show leaderboard and save the game state.\n",
            "        \"\"\"\n",
            "        self.leaderboard.show_leaderboard()\n",
            "        Utils.save_game(self)\n",
            "        print(\"Thank you for playing!\")\n",
            "\n",
            "# If this file is the entry point, start the game\n",
            "if __name__ == \"__main__\":\n",
            "    game = Game()\n",
            "    game"
          ]
        },
        {
          "output_type": "stream",
          "name": "stderr",
          "text": [
            "2023-12-16 02:37:52.133 | INFO     | metagpt.provider.openai_api:update_cost:91 - Total running cost: $0.264 | Max budget: $3.000 | Current cost: $0.047, prompt_tokens: 2875, completion_tokens: 594\n",
            "2023-12-16 02:37:52.143 | INFO     | metagpt.utils.file_repository:save:59 - save to: /content/workspace/cli_blackjack/cli_blackjack/game.py\n",
            "2023-12-16 02:37:52.149 | INFO     | metagpt.utils.file_repository:save:64 - update dependency: /content/workspace/cli_blackjack/cli_blackjack/game.py:{'docs/tasks/20231216023522.json', 'docs/system_design/20231216023522.json'}\n",
            "2023-12-16 02:37:52.162 | INFO     | metagpt.actions.write_code:run:126 - Writing main.py..\n"
          ]
        },
        {
          "output_type": "stream",
          "name": "stdout",
          "text": [
            ".start_game()\n",
            "```\n",
            "## Code: main.py\n",
            "```python\n",
            "## main.py\n",
            "import curses\n",
            "from game import Game\n",
            "\n",
            "class Main:\n",
            "    @staticmethod\n",
            "    def main() -> None:\n",
            "        \"\"\"\n",
            "        The main entry point of the blackjack game application.\n",
            "        It initializes the game and starts the game loop.\n",
            "        \"\"\"\n",
            "        # Initialize curses\n",
            "        curses.initscr()\n",
            "        curses.start_color()\n",
            "        try:\n",
            "            # Start the game\n",
            "            game = Game()\n",
            "            game.start_game()\n",
            "        finally:\n",
            "            # Ensure that curses resources are cleaned up properly\n",
            "            curses.endwin()\n",
            "\n",
            "# If this file is the entry point, execute the main function\n",
            "if __name__ == \"__main__\":\n",
            "   "
          ]
        },
        {
          "output_type": "stream",
          "name": "stderr",
          "text": [
            "2023-12-16 02:37:57.700 | INFO     | metagpt.provider.openai_api:update_cost:91 - Total running cost: $0.303 | Max budget: $3.000 | Current cost: $0.039, prompt_tokens: 3463, completion_tokens: 142\n",
            "2023-12-16 02:37:57.706 | INFO     | metagpt.utils.file_repository:save:59 - save to: /content/workspace/cli_blackjack/cli_blackjack/main.py\n",
            "2023-12-16 02:37:57.709 | INFO     | metagpt.utils.file_repository:save:64 - update dependency: /content/workspace/cli_blackjack/cli_blackjack/main.py:{'docs/tasks/20231216023522.json', 'docs/system_design/20231216023522.json'}\n",
            "2023-12-16 02:37:57.723 | INFO     | metagpt.utils.git_repository:archive:166 - Archive: ['.dependencies.json', 'cli_blackjack/dealer.py', 'cli_blackjack/difficulty.py', 'cli_blackjack/game.py', 'cli_blackjack/leaderboard.py', 'cli_blackjack/main.py', 'cli_blackjack/player.py', 'cli_blackjack/utils.py', 'docs/prds/20231216023522.json', 'docs/requirement.txt', 'docs/system_design/20231216023522.json', 'docs/tasks/20231216023522.json', 'requirements.txt', 'resources/api_spec_and_tasks/20231216023522.md', 'resources/competitive_analysis/20231216023522.mmd', 'resources/data_api_design/20231216023522.mmd', 'resources/prd/20231216023522.md', 'resources/seq_flow/20231216023522.mmd', 'resources/system_design/20231216023522.md']\n"
          ]
        },
        {
          "output_type": "stream",
          "name": "stdout",
          "text": [
            " Main.main()\n",
            "```\n"
          ]
        }
      ]
    },
    {
      "cell_type": "markdown",
      "source": [
        "# Done!\n",
        "When the run is complete, you should be able to find the generated code under the `workspace` directory.\n",
        "\n",
        "![Screen Shot 2023-11-13 at 9.13.29 PM.png](data:image/png;base64,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)"
      ],
      "metadata": {
        "id": "7V7ThrXvz2zP"
      }
    },
    {
      "cell_type": "code",
      "source": [],
      "metadata": {
        "id": "YqH7fx3XcYb0"
      },
      "execution_count": null,
      "outputs": []
    }
  ]
}
